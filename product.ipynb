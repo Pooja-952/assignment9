{
 "cells": [
  {
   "cell_type": "markdown",
   "id": "e0b1bc0c-65b5-4d4c-ac97-e2ccc5ae27d5",
   "metadata": {},
   "source": [
    "### Q8. Given an array, find a product of all array elements."
   ]
  },
  {
   "cell_type": "code",
   "execution_count": 1,
   "id": "8594a264-db9b-4696-bd7f-98027e5a4e1b",
   "metadata": {},
   "outputs": [],
   "source": [
    "def find_product(arr):\n",
    "    product = 1\n",
    "    \n",
    "    for num in arr:\n",
    "        product *= num\n",
    "    return product    "
   ]
  },
  {
   "cell_type": "code",
   "execution_count": 3,
   "id": "e3938571-2c01-4823-a5ca-5230d66d196c",
   "metadata": {},
   "outputs": [
    {
     "name": "stdout",
     "output_type": "stream",
     "text": [
      "120\n"
     ]
    }
   ],
   "source": [
    "arr = [1, 2, 3, 4, 5]\n",
    "result = find_product(arr)\n",
    "print(result)"
   ]
  },
  {
   "cell_type": "code",
   "execution_count": null,
   "id": "2228e1c1-6ac5-4756-bc9a-1ce51c60eb6b",
   "metadata": {},
   "outputs": [],
   "source": []
  }
 ],
 "metadata": {
  "kernelspec": {
   "display_name": "Python 3 (ipykernel)",
   "language": "python",
   "name": "python3"
  },
  "language_info": {
   "codemirror_mode": {
    "name": "ipython",
    "version": 3
   },
   "file_extension": ".py",
   "mimetype": "text/x-python",
   "name": "python",
   "nbconvert_exporter": "python",
   "pygments_lexer": "ipython3",
   "version": "3.10.6"
  }
 },
 "nbformat": 4,
 "nbformat_minor": 5
}
