{
 "cells": [
  {
   "cell_type": "markdown",
   "id": "f9693db7-cacf-42cd-86b5-6a33c6d9605d",
   "metadata": {},
   "source": [
    "### Q4. Given a number N and a power P, the task is to find the exponent of this number raised to the given power, i.e. N^P."
   ]
  },
  {
   "cell_type": "code",
   "execution_count": 11,
   "id": "19572c52-0e0e-4511-abb9-f47881d73d26",
   "metadata": {},
   "outputs": [],
   "source": [
    "def exponential(N, P):\n",
    "    result = N ** P\n",
    "    return result"
   ]
  },
  {
   "cell_type": "code",
   "execution_count": 12,
   "id": "71687d04-aec7-45f2-a7e0-c76b316dc3a7",
   "metadata": {},
   "outputs": [
    {
     "name": "stdout",
     "output_type": "stream",
     "text": [
      "25\n"
     ]
    }
   ],
   "source": [
    "N = 5\n",
    "P = 2\n",
    "power = exponential(N, P)\n",
    "print(power)"
   ]
  },
  {
   "cell_type": "code",
   "execution_count": null,
   "id": "ea509e60-3a24-40a4-a76f-67b8450b8570",
   "metadata": {},
   "outputs": [],
   "source": []
  }
 ],
 "metadata": {
  "kernelspec": {
   "display_name": "Python 3 (ipykernel)",
   "language": "python",
   "name": "python3"
  },
  "language_info": {
   "codemirror_mode": {
    "name": "ipython",
    "version": 3
   },
   "file_extension": ".py",
   "mimetype": "text/x-python",
   "name": "python",
   "nbconvert_exporter": "python",
   "pygments_lexer": "ipython3",
   "version": "3.10.6"
  }
 },
 "nbformat": 4,
 "nbformat_minor": 5
}
