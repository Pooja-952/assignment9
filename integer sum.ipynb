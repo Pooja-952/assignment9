{
 "cells": [
  {
   "cell_type": "markdown",
   "id": "d618cfd4-d7ea-4929-a993-36f0be546ed4",
   "metadata": {},
   "source": [
    "### Q2. Given a number n, find the sum of the first natural numbers."
   ]
  },
  {
   "cell_type": "code",
   "execution_count": 18,
   "id": "cbc126f5-e3ea-439f-aa08-710fc557a5cb",
   "metadata": {},
   "outputs": [],
   "source": [
    "def naturalNumberSum(n):\n",
    "    sum = n*(n + 1) // 2\n",
    "    return sum    "
   ]
  },
  {
   "cell_type": "code",
   "execution_count": 19,
   "id": "ffbe4d8d-4acf-4feb-af9b-8f1614de1f74",
   "metadata": {},
   "outputs": [
    {
     "name": "stdout",
     "output_type": "stream",
     "text": [
      "15\n"
     ]
    }
   ],
   "source": [
    "n = 5\n",
    "result = naturalNumberSum(n)\n",
    "print(result)"
   ]
  },
  {
   "cell_type": "code",
   "execution_count": null,
   "id": "3a1c0452-e3ed-431b-affa-9f6bfcf4f68a",
   "metadata": {},
   "outputs": [],
   "source": []
  }
 ],
 "metadata": {
  "kernelspec": {
   "display_name": "Python 3 (ipykernel)",
   "language": "python",
   "name": "python3"
  },
  "language_info": {
   "codemirror_mode": {
    "name": "ipython",
    "version": 3
   },
   "file_extension": ".py",
   "mimetype": "text/x-python",
   "name": "python",
   "nbconvert_exporter": "python",
   "pygments_lexer": "ipython3",
   "version": "3.10.6"
  }
 },
 "nbformat": 4,
 "nbformat_minor": 5
}
