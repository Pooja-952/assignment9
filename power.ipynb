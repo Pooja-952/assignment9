{
 "cells": [
  {
   "cell_type": "markdown",
   "id": "0bdbbaee-fa2c-41fa-8753-fe4fdaef4954",
   "metadata": {},
   "source": [
    "### Q1 Given an integer `n`, return *`true` if it is a power of two. Otherwise, return `false`*. An integer `n` is a power of two, if there exists an integer `x` such that `n == 2x`."
   ]
  },
  {
   "cell_type": "code",
   "execution_count": 10,
   "id": "87295ff4-d2b6-49e4-985d-e25cc5bc6b2f",
   "metadata": {},
   "outputs": [],
   "source": [
    "def power(n):\n",
    "    \n",
    "    for x in range(n):\n",
    "        if n ^ 2:\n",
    "            return True\n",
    "        elif n == 2*x:\n",
    "            n = n^2 \n",
    "    else:\n",
    "        return False"
   ]
  },
  {
   "cell_type": "code",
   "execution_count": 12,
   "id": "3d6adb94-7187-46f0-9063-958a26ed564c",
   "metadata": {},
   "outputs": [
    {
     "name": "stdout",
     "output_type": "stream",
     "text": [
      "True\n"
     ]
    }
   ],
   "source": [
    "n = 1\n",
    "result = power(n)\n",
    "print(result)"
   ]
  },
  {
   "cell_type": "code",
   "execution_count": 20,
   "id": "b376021b-f971-4253-9771-ef9eb3ba8737",
   "metadata": {},
   "outputs": [
    {
     "name": "stdout",
     "output_type": "stream",
     "text": [
      "False\n"
     ]
    }
   ],
   "source": [
    "n = 0\n",
    "result = power(n)\n",
    "print(result)"
   ]
  },
  {
   "cell_type": "code",
   "execution_count": null,
   "id": "1b587f4e-bcad-4d4d-a07e-b9c47d76f515",
   "metadata": {},
   "outputs": [],
   "source": []
  }
 ],
 "metadata": {
  "kernelspec": {
   "display_name": "Python 3 (ipykernel)",
   "language": "python",
   "name": "python3"
  },
  "language_info": {
   "codemirror_mode": {
    "name": "ipython",
    "version": 3
   },
   "file_extension": ".py",
   "mimetype": "text/x-python",
   "name": "python",
   "nbconvert_exporter": "python",
   "pygments_lexer": "ipython3",
   "version": "3.10.6"
  }
 },
 "nbformat": 4,
 "nbformat_minor": 5
}
