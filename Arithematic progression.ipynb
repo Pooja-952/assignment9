{
 "cells": [
  {
   "cell_type": "markdown",
   "id": "f918cc9c-5620-4eb8-b798-06c28bec64f2",
   "metadata": {},
   "source": [
    "### Q6. Given first term (a), common difference (d) and a integer N of the Arithmetic Progression series, the task is to find Nth term of the series."
   ]
  },
  {
   "cell_type": "code",
   "execution_count": 1,
   "id": "78d39b5a-e0f8-40c7-a8a5-0d281e35f6ed",
   "metadata": {},
   "outputs": [],
   "source": [
    "def arithmeticProgression(a, d, N):\n",
    "    Nth_term = a + (N - 1) * d\n",
    "    return Nth_term"
   ]
  },
  {
   "cell_type": "code",
   "execution_count": 3,
   "id": "8f0a0776-1471-4d96-b70a-6c92937fd925",
   "metadata": {},
   "outputs": [
    {
     "name": "stdout",
     "output_type": "stream",
     "text": [
      "6\n"
     ]
    }
   ],
   "source": [
    "a = 2 \n",
    "d = 1 \n",
    "N = 5\n",
    "result = arithmeticProgression(a, d, N)\n",
    "print(result)"
   ]
  },
  {
   "cell_type": "code",
   "execution_count": null,
   "id": "7f75f159-d98b-4da4-940e-1993ad3f209d",
   "metadata": {},
   "outputs": [],
   "source": []
  }
 ],
 "metadata": {
  "kernelspec": {
   "display_name": "Python 3 (ipykernel)",
   "language": "python",
   "name": "python3"
  },
  "language_info": {
   "codemirror_mode": {
    "name": "ipython",
    "version": 3
   },
   "file_extension": ".py",
   "mimetype": "text/x-python",
   "name": "python",
   "nbconvert_exporter": "python",
   "pygments_lexer": "ipython3",
   "version": "3.10.6"
  }
 },
 "nbformat": 4,
 "nbformat_minor": 5
}
