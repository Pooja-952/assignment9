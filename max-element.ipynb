{
 "cells": [
  {
   "cell_type": "markdown",
   "id": "c8eee873-be2f-4434-8033-84ea8a32aace",
   "metadata": {},
   "source": [
    "### Q5. Given an array of integers arr, the task is to find maximum element of that array using recursion."
   ]
  },
  {
   "cell_type": "code",
   "execution_count": 4,
   "id": "94555916-79a0-450a-9bdb-3932fcc29cd3",
   "metadata": {},
   "outputs": [],
   "source": [
    "def find_maximum(arr):\n",
    "    if len(arr) == 1:\n",
    "        return arr[0]\n",
    "    else:\n",
    "        return max(arr[0], find_maximum(arr[1:]))\n",
    "    "
   ]
  },
  {
   "cell_type": "code",
   "execution_count": 5,
   "id": "d6507d11-2525-435b-a221-f5b91b8e6948",
   "metadata": {},
   "outputs": [
    {
     "name": "stdout",
     "output_type": "stream",
     "text": [
      "8\n"
     ]
    }
   ],
   "source": [
    "arr = [1, 4, 3, -5, -4, 8, 6]\n",
    "maximum = find_maximum(arr)\n",
    "print(maximum)  "
   ]
  },
  {
   "cell_type": "code",
   "execution_count": null,
   "id": "ba11e1c0-b5cd-4116-998b-727bb35f1af3",
   "metadata": {},
   "outputs": [],
   "source": []
  }
 ],
 "metadata": {
  "kernelspec": {
   "display_name": "Python 3 (ipykernel)",
   "language": "python",
   "name": "python3"
  },
  "language_info": {
   "codemirror_mode": {
    "name": "ipython",
    "version": 3
   },
   "file_extension": ".py",
   "mimetype": "text/x-python",
   "name": "python",
   "nbconvert_exporter": "python",
   "pygments_lexer": "ipython3",
   "version": "3.10.6"
  }
 },
 "nbformat": 4,
 "nbformat_minor": 5
}
