{
 "cells": [
  {
   "cell_type": "markdown",
   "id": "fa27f949-fddd-4ea8-a856-b99d1dfc0ec5",
   "metadata": {},
   "source": [
    "### Q7. Given a string S, the task is to write a program to print all permutations of a given string."
   ]
  },
  {
   "cell_type": "code",
   "execution_count": 3,
   "id": "85815cc9-c50a-49ac-8cdb-3394494319c0",
   "metadata": {},
   "outputs": [],
   "source": [
    "def permutation(S):\n",
    "    chars= list(S)\n",
    "    n = len(chars)\n",
    "    \n",
    "    def backtrack(start):\n",
    "        if start == n - 1:\n",
    "            print(''.join(chars))\n",
    "        else:\n",
    "            for i in range(start, n):\n",
    "                chars[start], chars[i] = chars[i], chars[start]\n",
    "                backtrack(start + 1)\n",
    "                chars[start], chars[i] = chars[i], chars[start]\n",
    "                \n",
    "    backtrack(0)            "
   ]
  },
  {
   "cell_type": "code",
   "execution_count": 7,
   "id": "baa827d2-f9c5-48ad-8fc2-e4d7f47d1d52",
   "metadata": {},
   "outputs": [
    {
     "name": "stdout",
     "output_type": "stream",
     "text": [
      "ABC\n",
      "ACB\n",
      "BAC\n",
      "BCA\n",
      "CBA\n",
      "CAB\n"
     ]
    }
   ],
   "source": [
    "S = \"ABC\"\n",
    "result = permutation(S)\n"
   ]
  }
 ],
 "metadata": {
  "kernelspec": {
   "display_name": "Python 3 (ipykernel)",
   "language": "python",
   "name": "python3"
  },
  "language_info": {
   "codemirror_mode": {
    "name": "ipython",
    "version": 3
   },
   "file_extension": ".py",
   "mimetype": "text/x-python",
   "name": "python",
   "nbconvert_exporter": "python",
   "pygments_lexer": "ipython3",
   "version": "3.10.6"
  }
 },
 "nbformat": 4,
 "nbformat_minor": 5
}
