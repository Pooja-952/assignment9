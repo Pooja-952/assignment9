{
 "cells": [
  {
   "cell_type": "markdown",
   "id": "e49be1db-fe6d-4372-b3e0-1ed07696ea03",
   "metadata": {},
   "source": [
    "### Q3. Given a positive integer, N. Find the factorial of N. "
   ]
  },
  {
   "cell_type": "code",
   "execution_count": 1,
   "id": "c4bfde42-242d-477e-bb06-7f7836765c67",
   "metadata": {},
   "outputs": [],
   "source": [
    "def integerFactorial(N):\n",
    "    result = 1\n",
    "    \n",
    "    for i in range(1, N + 1):\n",
    "        result *= i\n",
    "    return result   "
   ]
  },
  {
   "cell_type": "code",
   "execution_count": 2,
   "id": "5441aa9c-a619-44b2-b68c-f5178427dc6f",
   "metadata": {},
   "outputs": [
    {
     "name": "stdout",
     "output_type": "stream",
     "text": [
      "6\n"
     ]
    }
   ],
   "source": [
    "N = 3\n",
    "result = integerFactorial(N)\n",
    "print(result)"
   ]
  },
  {
   "cell_type": "code",
   "execution_count": null,
   "id": "24d77b67-6d14-4e80-8d41-fe3851b9e219",
   "metadata": {},
   "outputs": [],
   "source": []
  }
 ],
 "metadata": {
  "kernelspec": {
   "display_name": "Python 3 (ipykernel)",
   "language": "python",
   "name": "python3"
  },
  "language_info": {
   "codemirror_mode": {
    "name": "ipython",
    "version": 3
   },
   "file_extension": ".py",
   "mimetype": "text/x-python",
   "name": "python",
   "nbconvert_exporter": "python",
   "pygments_lexer": "ipython3",
   "version": "3.10.6"
  }
 },
 "nbformat": 4,
 "nbformat_minor": 5
}
